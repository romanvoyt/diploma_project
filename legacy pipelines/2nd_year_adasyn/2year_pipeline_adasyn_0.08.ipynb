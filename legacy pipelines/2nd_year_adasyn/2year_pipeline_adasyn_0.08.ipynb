{
 "cells": [
  {
   "cell_type": "markdown",
   "metadata": {},
   "source": [
    "# Year 2"
   ]
  },
  {
   "cell_type": "markdown",
   "metadata": {},
   "source": [
    "## Importing modules"
   ]
  },
  {
   "cell_type": "code",
   "execution_count": 1,
   "metadata": {},
   "outputs": [],
   "source": [
    "#standard libs\n",
    "from math import sqrt\n",
    "import random\n",
    "import os\n",
    "\n",
    "#default data science libs\n",
    "import numpy as np\n",
    "import pandas as pd\n",
    "import matplotlib.pyplot as plt\n",
    "\n",
    "#modules for data preprocessing\n",
    "from sklearn.impute import SimpleImputer\n",
    "from imblearn.over_sampling import SMOTE\n",
    "from imblearn.over_sampling import ADASYN\n",
    "from sklearn.model_selection import train_test_split\n",
    "from sklearn.preprocessing import StandardScaler\n",
    "from sklearn.decomposition import PCA\n",
    "from sklearn.model_selection import GridSearchCV, cross_val_score, StratifiedKFold, learning_curve, KFold\n",
    "from sklearn.model_selection import RandomizedSearchCV\n",
    "\n",
    "#classification models\n",
    "from sklearn.svm import SVC\n",
    "from sklearn.ensemble import RandomForestClassifier\n",
    "from sklearn.linear_model import LogisticRegression\n",
    "from sklearn.ensemble import GradientBoostingClassifier\n",
    "from sklearn.ensemble import BaggingClassifier\n",
    "from sklearn.tree import DecisionTreeClassifier\n",
    "import xgboost as xgb\n",
    "\n",
    "#evaluation metrics\n",
    "from sklearn import metrics\n",
    "from sklearn.metrics import confusion_matrix\n",
    "from sklearn.metrics import f1_score\n",
    "from sklearn.metrics import accuracy_score\n",
    "from sklearn.metrics import precision_score\n",
    "from sklearn.metrics import recall_score\n",
    "from sklearn.metrics import classification_report\n",
    "from sklearn.metrics import roc_curve, roc_auc_score\n",
    "from sklearn.metrics import mean_squared_error\n",
    "from sklearn.neighbors import KNeighborsClassifier\n",
    "\n",
    "\n"
   ]
  },
  {
   "cell_type": "code",
   "execution_count": 2,
   "metadata": {},
   "outputs": [],
   "source": [
    "from scipy.io import arff"
   ]
  },
  {
   "cell_type": "markdown",
   "metadata": {},
   "source": [
    "## loading data"
   ]
  },
  {
   "cell_type": "code",
   "execution_count": 3,
   "metadata": {},
   "outputs": [],
   "source": [
    "data = pd.read_excel('data/2year.xlsx')\n",
    "data['B'] = (data['B'].index > 9772).astype(int)"
   ]
  },
  {
   "cell_type": "code",
   "execution_count": 4,
   "metadata": {},
   "outputs": [
    {
     "data": {
      "text/html": [
       "<div>\n",
       "<style scoped>\n",
       "    .dataframe tbody tr th:only-of-type {\n",
       "        vertical-align: middle;\n",
       "    }\n",
       "\n",
       "    .dataframe tbody tr th {\n",
       "        vertical-align: top;\n",
       "    }\n",
       "\n",
       "    .dataframe thead th {\n",
       "        text-align: right;\n",
       "    }\n",
       "</style>\n",
       "<table border=\"1\" class=\"dataframe\">\n",
       "  <thead>\n",
       "    <tr style=\"text-align: right;\">\n",
       "      <th></th>\n",
       "      <th>X1</th>\n",
       "      <th>X2</th>\n",
       "      <th>X3</th>\n",
       "      <th>X4</th>\n",
       "      <th>X5</th>\n",
       "      <th>X6</th>\n",
       "      <th>X7</th>\n",
       "      <th>X8</th>\n",
       "      <th>X9</th>\n",
       "      <th>X10</th>\n",
       "      <th>...</th>\n",
       "      <th>X56</th>\n",
       "      <th>X57</th>\n",
       "      <th>X58</th>\n",
       "      <th>X59</th>\n",
       "      <th>X60</th>\n",
       "      <th>X61</th>\n",
       "      <th>X62</th>\n",
       "      <th>X63</th>\n",
       "      <th>X64</th>\n",
       "      <th>B</th>\n",
       "    </tr>\n",
       "  </thead>\n",
       "  <tbody>\n",
       "    <tr>\n",
       "      <td>0</td>\n",
       "      <td>0.202350</td>\n",
       "      <td>0.46500</td>\n",
       "      <td>0.240380</td>\n",
       "      <td>1.5171</td>\n",
       "      <td>-14.547</td>\n",
       "      <td>0.510690</td>\n",
       "      <td>0.25366</td>\n",
       "      <td>0.91816</td>\n",
       "      <td>1.15190</td>\n",
       "      <td>0.42695</td>\n",
       "      <td>...</td>\n",
       "      <td>0.13184</td>\n",
       "      <td>0.473950</td>\n",
       "      <td>0.86816</td>\n",
       "      <td>0.00024</td>\n",
       "      <td>8.5487</td>\n",
       "      <td>5.16550</td>\n",
       "      <td>107.740</td>\n",
       "      <td>3.38790</td>\n",
       "      <td>5.3440</td>\n",
       "      <td>0</td>\n",
       "    </tr>\n",
       "    <tr>\n",
       "      <td>1</td>\n",
       "      <td>0.030073</td>\n",
       "      <td>0.59563</td>\n",
       "      <td>0.186680</td>\n",
       "      <td>1.3382</td>\n",
       "      <td>-37.859</td>\n",
       "      <td>-0.000319</td>\n",
       "      <td>0.04167</td>\n",
       "      <td>0.67890</td>\n",
       "      <td>0.32356</td>\n",
       "      <td>0.40437</td>\n",
       "      <td>...</td>\n",
       "      <td>0.12146</td>\n",
       "      <td>0.074369</td>\n",
       "      <td>0.87235</td>\n",
       "      <td>0.00000</td>\n",
       "      <td>1.5264</td>\n",
       "      <td>0.63305</td>\n",
       "      <td>622.660</td>\n",
       "      <td>0.58619</td>\n",
       "      <td>1.2381</td>\n",
       "      <td>0</td>\n",
       "    </tr>\n",
       "    <tr>\n",
       "      <td>2</td>\n",
       "      <td>0.257860</td>\n",
       "      <td>0.29949</td>\n",
       "      <td>0.665190</td>\n",
       "      <td>3.2211</td>\n",
       "      <td>71.799</td>\n",
       "      <td>0.000000</td>\n",
       "      <td>0.31877</td>\n",
       "      <td>2.33200</td>\n",
       "      <td>1.67620</td>\n",
       "      <td>0.69841</td>\n",
       "      <td>...</td>\n",
       "      <td>0.16499</td>\n",
       "      <td>0.369210</td>\n",
       "      <td>0.81614</td>\n",
       "      <td>0.00000</td>\n",
       "      <td>4.3325</td>\n",
       "      <td>3.19850</td>\n",
       "      <td>65.215</td>\n",
       "      <td>5.59690</td>\n",
       "      <td>47.4660</td>\n",
       "      <td>0</td>\n",
       "    </tr>\n",
       "    <tr>\n",
       "      <td>3</td>\n",
       "      <td>0.227160</td>\n",
       "      <td>0.67850</td>\n",
       "      <td>0.042784</td>\n",
       "      <td>1.0828</td>\n",
       "      <td>-88.212</td>\n",
       "      <td>0.000000</td>\n",
       "      <td>0.28505</td>\n",
       "      <td>0.47384</td>\n",
       "      <td>1.32410</td>\n",
       "      <td>0.32150</td>\n",
       "      <td>...</td>\n",
       "      <td>0.29358</td>\n",
       "      <td>0.706570</td>\n",
       "      <td>0.78617</td>\n",
       "      <td>0.48456</td>\n",
       "      <td>5.2309</td>\n",
       "      <td>5.06750</td>\n",
       "      <td>142.460</td>\n",
       "      <td>2.56210</td>\n",
       "      <td>3.0066</td>\n",
       "      <td>0</td>\n",
       "    </tr>\n",
       "    <tr>\n",
       "      <td>4</td>\n",
       "      <td>0.085443</td>\n",
       "      <td>0.38039</td>\n",
       "      <td>0.359230</td>\n",
       "      <td>1.9444</td>\n",
       "      <td>21.731</td>\n",
       "      <td>0.187900</td>\n",
       "      <td>0.10823</td>\n",
       "      <td>1.37140</td>\n",
       "      <td>1.11260</td>\n",
       "      <td>0.52167</td>\n",
       "      <td>...</td>\n",
       "      <td>0.10124</td>\n",
       "      <td>0.163790</td>\n",
       "      <td>0.89876</td>\n",
       "      <td>0.00000</td>\n",
       "      <td>5.7035</td>\n",
       "      <td>4.00200</td>\n",
       "      <td>89.058</td>\n",
       "      <td>4.09840</td>\n",
       "      <td>5.9874</td>\n",
       "      <td>0</td>\n",
       "    </tr>\n",
       "  </tbody>\n",
       "</table>\n",
       "<p>5 rows × 65 columns</p>\n",
       "</div>"
      ],
      "text/plain": [
       "         X1       X2        X3      X4      X5        X6       X7       X8  \\\n",
       "0  0.202350  0.46500  0.240380  1.5171 -14.547  0.510690  0.25366  0.91816   \n",
       "1  0.030073  0.59563  0.186680  1.3382 -37.859 -0.000319  0.04167  0.67890   \n",
       "2  0.257860  0.29949  0.665190  3.2211  71.799  0.000000  0.31877  2.33200   \n",
       "3  0.227160  0.67850  0.042784  1.0828 -88.212  0.000000  0.28505  0.47384   \n",
       "4  0.085443  0.38039  0.359230  1.9444  21.731  0.187900  0.10823  1.37140   \n",
       "\n",
       "        X9      X10  ...      X56       X57      X58      X59     X60  \\\n",
       "0  1.15190  0.42695  ...  0.13184  0.473950  0.86816  0.00024  8.5487   \n",
       "1  0.32356  0.40437  ...  0.12146  0.074369  0.87235  0.00000  1.5264   \n",
       "2  1.67620  0.69841  ...  0.16499  0.369210  0.81614  0.00000  4.3325   \n",
       "3  1.32410  0.32150  ...  0.29358  0.706570  0.78617  0.48456  5.2309   \n",
       "4  1.11260  0.52167  ...  0.10124  0.163790  0.89876  0.00000  5.7035   \n",
       "\n",
       "       X61      X62      X63      X64  B  \n",
       "0  5.16550  107.740  3.38790   5.3440  0  \n",
       "1  0.63305  622.660  0.58619   1.2381  0  \n",
       "2  3.19850   65.215  5.59690  47.4660  0  \n",
       "3  5.06750  142.460  2.56210   3.0066  0  \n",
       "4  4.00200   89.058  4.09840   5.9874  0  \n",
       "\n",
       "[5 rows x 65 columns]"
      ]
     },
     "execution_count": 4,
     "metadata": {},
     "output_type": "execute_result"
    }
   ],
   "source": [
    "data.head()"
   ]
  },
  {
   "cell_type": "markdown",
   "metadata": {},
   "source": [
    "# Data preprocessing"
   ]
  },
  {
   "cell_type": "code",
   "execution_count": 5,
   "metadata": {},
   "outputs": [],
   "source": [
    "def set_new_headers(df):\n",
    "    cols = ['X' + str(i+1) for i in range(len(df.columns)-1)]\n",
    "    cols.append('Y')\n",
    "    df.columns = cols\n",
    "\n",
    "imputer = SimpleImputer(missing_values = np.nan, strategy='mean')\n",
    "mean_imputed_df = pd.DataFrame(imputer.fit_transform(data))\n",
    "set_new_headers(mean_imputed_df)\n",
    "\n",
    "data_imp = pd.DataFrame()\n",
    "\n"
   ]
  },
  {
   "cell_type": "code",
   "execution_count": 6,
   "metadata": {},
   "outputs": [],
   "source": [
    "Y = mean_imputed_df['Y'].values\n",
    "mean_imputed_df.drop('Y', axis=1, inplace=True)\n",
    "X = mean_imputed_df.values"
   ]
  },
  {
   "cell_type": "code",
   "execution_count": 7,
   "metadata": {},
   "outputs": [],
   "source": [
    "X_train, X_test, y_train, y_test = train_test_split(X,Y, test_size=0.3, random_state=10)"
   ]
  },
  {
   "cell_type": "code",
   "execution_count": 8,
   "metadata": {},
   "outputs": [],
   "source": [
    "#cross validation\n",
    "nfolds = 10\n",
    "nclass = 2\n",
    "ntrain = X_train.shape[0]\n",
    "ntest = X_test.shape[0]\n",
    "\n",
    "cross_val = StratifiedKFold(nfolds)"
   ]
  },
  {
   "cell_type": "markdown",
   "metadata": {},
   "source": [
    "# Creating model objects\n",
    "## Tuning model hyperparameters"
   ]
  },
  {
   "cell_type": "markdown",
   "metadata": {},
   "source": [
    "# Second level"
   ]
  },
  {
   "cell_type": "code",
   "execution_count": 9,
   "metadata": {},
   "outputs": [],
   "source": [
    "def show_feature_importance(model, features, model_name):\n",
    "    plt.figure(figsize=(12,8))\n",
    "    results=pd.DataFrame({'feature': features, 'importance': model.feature_importances_})\n",
    "    results=results.sort_values('importance', ascending=False)\n",
    "    results.head(70)\n",
    "#     results.head(20).plot(x = 'feature', y = 'importance', kind = 'barh',\n",
    "#                      color = 'red', edgecolor = 'k', title = 'Feature Importances of ' + model_name)\n",
    "    return results"
   ]
  },
  {
   "cell_type": "code",
   "execution_count": 10,
   "metadata": {},
   "outputs": [
    {
     "name": "stdout",
     "output_type": "stream",
     "text": [
      "7121 3052\n"
     ]
    }
   ],
   "source": [
    "ntrain=X_train.shape[0]\n",
    "ntest = X_test.shape[0]\n",
    "nclass = 2\n",
    "SEED = 42\n",
    "NFOLDS = 10\n",
    "print(ntrain, ntest)\n",
    "kf = KFold(n_splits=NFOLDS, random_state=SEED, shuffle=True)\n",
    "labels = ['Normal','Bankruptcy']"
   ]
  },
  {
   "cell_type": "code",
   "execution_count": 11,
   "metadata": {},
   "outputs": [],
   "source": [
    "def BuildModel(best_alg, X_train, y_train, X_test, kf, ntrain, ntest, nclass, NfOLDS):\n",
    "    Xr_train = np.zeros((ntrain, nclass))\n",
    "    Xr_test = np.zeros((ntest, nclass))\n",
    "    tr_ind = np.arange(ntrain)\n",
    "    smote = ADASYN(sampling_strategy = 0.08, random_state=32)\n",
    "    for i, (ttrain, ttest) in enumerate(kf.split(tr_ind)):\n",
    "        clf = best_alg\n",
    "        X=X_train[ttrain]\n",
    "        y=y_train[ttrain]\n",
    "        X_train_sm, y_train_sm= smote.fit_sample(X, y)\n",
    "        clf.fit(X_train_sm, y_train_sm)\n",
    "        sc = clf.score(X_train[ttest], y_train[ttest])\n",
    "        print(i, 'accuracy', sc)\n",
    "        Xr_train[ttest] = clf.predict_proba(X_train[ttest])\n",
    "        Xr_test += clf.predict_proba(X_test)/NFOLDS\n",
    "    \n",
    "    return Xr_train, Xr_test\n",
    "\n",
    "\n",
    "def BuildModelNot(best_alg, X_train, y_train, X_test, kf, ntrain, ntest, nclass, NfOLDS):\n",
    "    Xr_train = np.zeros((ntrain, nclass))\n",
    "    Xr_test = np.zeros((ntest, nclass))\n",
    "    tr_ind = np.arange(ntrain)\n",
    "    smote = ADASYN(sampling_strategy= 0.08, random_state=32)\n",
    "    for i, (ttrain, ttest) in enumerate(kf.split(tr_ind)):\n",
    "        clf = best_alg\n",
    "        X=X_train[ttrain]\n",
    "        y=y_train[ttrain]\n",
    "        X_train_sm, y_train_sm= smote.fit_sample(X, y)\n",
    "        clf.fit(X_train_sm, y_train_sm)\n",
    "        sc = clf.score(X_train[test], y_train[ttest])\n",
    "        print(i, 'accuracy', sc)\n",
    "        Xr_train[ttest] = clf.predict_proba(X_train[ttest])\n",
    "        Xr_test += clf.predict_proba(X_test, validate_features=False)/NFOLDS\n",
    "    \n",
    "    return Xr_train, Xr_test"
   ]
  },
  {
   "cell_type": "code",
   "execution_count": null,
   "metadata": {},
   "outputs": [],
   "source": []
  },
  {
   "cell_type": "code",
   "execution_count": 12,
   "metadata": {},
   "outputs": [],
   "source": [
    "def show_accuracy(Xr, y, labels, best, nclass):\n",
    "    pred=[]\n",
    "    for x in Xr:\n",
    "        if x > best:\n",
    "            pred.append(1)\n",
    "        else:\n",
    "            pred.append(0)\n",
    "    print(classification_report(y,pred, target_names=labels, digits=4))\n",
    "    print(confusion_matrix(y, pred, labels=range(nclass)))"
   ]
  },
  {
   "cell_type": "code",
   "execution_count": 13,
   "metadata": {},
   "outputs": [],
   "source": [
    "def show_auc(y_train_set, pred_train_set):\n",
    "    thresholds = np.linspace(0.01, 0.5, 1000)\n",
    "    f1_sc = np.array([f1_score(y_train_set, pred_train_set[:,1] > thr) for thr in thresholds])\n",
    "    plt.figure(figsize=(12,8))\n",
    "    plt.plot(thresholds, f1_sc, linewidth=4)\n",
    "    plt.ylabel(\"F1 score\", fontsize=18)\n",
    "    plt.xlabel(\"Threshold\", fontsize=18)\n",
    "    \n",
    "    best_model_f1 = thresholds[f1_sc.argmax()]\n",
    "    \n",
    "    return best_model_f1"
   ]
  },
  {
   "cell_type": "code",
   "execution_count": 14,
   "metadata": {},
   "outputs": [
    {
     "data": {
      "text/plain": [
       "array([[ 6.2971e-02,  5.1854e-01,  1.0594e-02, ...,  1.1576e+02,\n",
       "         3.1531e+00,  1.8254e+00],\n",
       "       [ 4.4568e-04,  8.7631e-01,  3.5080e-01, ...,  1.1420e+02,\n",
       "         3.1962e+00,  6.6508e+00],\n",
       "       [ 1.1732e-01,  3.3079e-01,  5.7334e-01, ...,  2.5183e+01,\n",
       "         1.4494e+01,  9.3508e+00],\n",
       "       ...,\n",
       "       [-5.3670e-01,  7.8497e-02,  2.6824e-01, ...,  2.4876e+01,\n",
       "         1.4673e+01,  1.1851e+00],\n",
       "       [ 4.6735e-01,  3.9807e-01,  1.4838e-02, ...,  4.3617e+01,\n",
       "         8.3683e+00,  2.5717e+00],\n",
       "       [ 8.3040e-02,  5.4857e-01,  2.4094e-01, ...,  8.4371e+01,\n",
       "         4.3261e+00,  5.8015e+00]])"
      ]
     },
     "execution_count": 14,
     "metadata": {},
     "output_type": "execute_result"
    }
   ],
   "source": [
    "X_train"
   ]
  },
  {
   "cell_type": "markdown",
   "metadata": {},
   "source": [
    "## Logistic regression"
   ]
  },
  {
   "cell_type": "code",
   "execution_count": 15,
   "metadata": {},
   "outputs": [
    {
     "name": "stderr",
     "output_type": "stream",
     "text": [
      "C:\\Developement\\Anaconda\\lib\\site-packages\\sklearn\\utils\\optimize.py:203: ConvergenceWarning: newton-cg failed to converge. Increase the number of iterations.\n",
      "  \"number of iterations.\", ConvergenceWarning)\n"
     ]
    },
    {
     "name": "stdout",
     "output_type": "stream",
     "text": [
      "0 accuracy 0.9509116409537167\n"
     ]
    },
    {
     "name": "stderr",
     "output_type": "stream",
     "text": [
      "C:\\Developement\\Anaconda\\lib\\site-packages\\sklearn\\utils\\optimize.py:203: ConvergenceWarning: newton-cg failed to converge. Increase the number of iterations.\n",
      "  \"number of iterations.\", ConvergenceWarning)\n"
     ]
    },
    {
     "name": "stdout",
     "output_type": "stream",
     "text": [
      "1 accuracy 0.9536516853932584\n"
     ]
    },
    {
     "name": "stderr",
     "output_type": "stream",
     "text": [
      "C:\\Developement\\Anaconda\\lib\\site-packages\\sklearn\\utils\\optimize.py:203: ConvergenceWarning: newton-cg failed to converge. Increase the number of iterations.\n",
      "  \"number of iterations.\", ConvergenceWarning)\n"
     ]
    },
    {
     "name": "stdout",
     "output_type": "stream",
     "text": [
      "2 accuracy 0.9620786516853933\n"
     ]
    },
    {
     "name": "stderr",
     "output_type": "stream",
     "text": [
      "C:\\Developement\\Anaconda\\lib\\site-packages\\sklearn\\utils\\optimize.py:203: ConvergenceWarning: newton-cg failed to converge. Increase the number of iterations.\n",
      "  \"number of iterations.\", ConvergenceWarning)\n"
     ]
    },
    {
     "name": "stdout",
     "output_type": "stream",
     "text": [
      "3 accuracy 0.9747191011235955\n"
     ]
    },
    {
     "name": "stderr",
     "output_type": "stream",
     "text": [
      "C:\\Developement\\Anaconda\\lib\\site-packages\\sklearn\\utils\\optimize.py:203: ConvergenceWarning: newton-cg failed to converge. Increase the number of iterations.\n",
      "  \"number of iterations.\", ConvergenceWarning)\n"
     ]
    },
    {
     "name": "stdout",
     "output_type": "stream",
     "text": [
      "4 accuracy 0.9578651685393258\n"
     ]
    },
    {
     "name": "stderr",
     "output_type": "stream",
     "text": [
      "C:\\Developement\\Anaconda\\lib\\site-packages\\sklearn\\utils\\optimize.py:203: ConvergenceWarning: newton-cg failed to converge. Increase the number of iterations.\n",
      "  \"number of iterations.\", ConvergenceWarning)\n"
     ]
    },
    {
     "name": "stdout",
     "output_type": "stream",
     "text": [
      "5 accuracy 0.9480337078651685\n"
     ]
    },
    {
     "name": "stderr",
     "output_type": "stream",
     "text": [
      "C:\\Developement\\Anaconda\\lib\\site-packages\\sklearn\\utils\\optimize.py:203: ConvergenceWarning: newton-cg failed to converge. Increase the number of iterations.\n",
      "  \"number of iterations.\", ConvergenceWarning)\n"
     ]
    },
    {
     "name": "stdout",
     "output_type": "stream",
     "text": [
      "6 accuracy 0.9438202247191011\n"
     ]
    },
    {
     "name": "stderr",
     "output_type": "stream",
     "text": [
      "C:\\Developement\\Anaconda\\lib\\site-packages\\sklearn\\utils\\optimize.py:203: ConvergenceWarning: newton-cg failed to converge. Increase the number of iterations.\n",
      "  \"number of iterations.\", ConvergenceWarning)\n"
     ]
    },
    {
     "name": "stdout",
     "output_type": "stream",
     "text": [
      "7 accuracy 0.952247191011236\n"
     ]
    },
    {
     "name": "stderr",
     "output_type": "stream",
     "text": [
      "C:\\Developement\\Anaconda\\lib\\site-packages\\sklearn\\utils\\optimize.py:203: ConvergenceWarning: newton-cg failed to converge. Increase the number of iterations.\n",
      "  \"number of iterations.\", ConvergenceWarning)\n"
     ]
    },
    {
     "name": "stdout",
     "output_type": "stream",
     "text": [
      "8 accuracy 0.9564606741573034\n",
      "9 accuracy 0.9578651685393258\n"
     ]
    },
    {
     "name": "stderr",
     "output_type": "stream",
     "text": [
      "C:\\Developement\\Anaconda\\lib\\site-packages\\sklearn\\utils\\optimize.py:203: ConvergenceWarning: newton-cg failed to converge. Increase the number of iterations.\n",
      "  \"number of iterations.\", ConvergenceWarning)\n"
     ]
    }
   ],
   "source": [
    "lr_best = LogisticRegression(C=0.5, class_weight=None, dual=False, fit_intercept=True,\n",
    "                   intercept_scaling=1, l1_ratio=None, max_iter=100,\n",
    "                   multi_class='warn', n_jobs=None, penalty='l2',\n",
    "                   random_state=None, solver='newton-cg', tol=0.0001, verbose=0,\n",
    "                   warm_start=False)\n",
    "pred_train, pred_test=BuildModel(lr_best, X_train, y_train, X_test,kf, ntrain, ntest, nclass, NFOLDS)"
   ]
  },
  {
   "cell_type": "code",
   "execution_count": 16,
   "metadata": {},
   "outputs": [
    {
     "name": "stdout",
     "output_type": "stream",
     "text": [
      "0.15141955835962145\n",
      "0.1088888888888889\n"
     ]
    },
    {
     "data": {
      "image/png": "[encoded data removed]",
      "text/plain": [
       "<Figure size 864x576 with 1 Axes>"
      ]
     },
     "metadata": {
      "needs_background": "light"
     },
     "output_type": "display_data"
    }
   ],
   "source": [
    "thresholds = np.linspace(0.01, 0.9, 100)\n",
    "f1_sc = np.array([f1_score(y_train,pred_train[:,1] > thr) for thr in thresholds])\n",
    "plt.figure(figsize=(12,8))\n",
    "plt.plot(thresholds, f1_sc, linewidth=4 )\n",
    "plt.ylabel(\"F1 score\", fontsize=18)\n",
    "plt.xlabel(\"Threshold\", fontsize=18)\n",
    "best_lr = thresholds[f1_sc.argmax()]\n",
    "print(f1_sc.max())\n",
    "print(best_lr)"
   ]
  },
  {
   "cell_type": "code",
   "execution_count": 17,
   "metadata": {},
   "outputs": [
    {
     "name": "stdout",
     "output_type": "stream",
     "text": [
      "              precision    recall  f1-score   support\n",
      "\n",
      "      Normal     0.9702    0.8285    0.8937      6827\n",
      "  Bankruptcy     0.0930    0.4082    0.1514       294\n",
      "\n",
      "    accuracy                         0.8111      7121\n",
      "   macro avg     0.5316    0.6183    0.5226      7121\n",
      "weighted avg     0.9339    0.8111    0.8631      7121\n",
      "\n",
      "[[5656 1171]\n",
      " [ 174  120]]\n"
     ]
    }
   ],
   "source": [
    "show_accuracy(pred_train[:,1],y_train, labels, best_lr, nclass)"
   ]
  },
  {
   "cell_type": "code",
   "execution_count": 18,
   "metadata": {},
   "outputs": [
    {
     "name": "stdout",
     "output_type": "stream",
     "text": [
      "              precision    recall  f1-score   support\n",
      "\n",
      "      Normal     0.9742    0.8327    0.8979      2946\n",
      "  Bankruptcy     0.0768    0.3868    0.1281       106\n",
      "\n",
      "    accuracy                         0.8172      3052\n",
      "   macro avg     0.5255    0.6097    0.5130      3052\n",
      "weighted avg     0.9430    0.8172    0.8711      3052\n",
      "\n",
      "[[2453  493]\n",
      " [  65   41]]\n"
     ]
    }
   ],
   "source": [
    "show_accuracy(pred_test[:,1],y_test, labels, best_lr, nclass)"
   ]
  },
  {
   "cell_type": "markdown",
   "metadata": {},
   "source": [
    "## Decision tree"
   ]
  },
  {
   "cell_type": "code",
   "execution_count": 19,
   "metadata": {},
   "outputs": [
    {
     "name": "stdout",
     "output_type": "stream",
     "text": [
      "0 accuracy 0.9481065918653576\n",
      "1 accuracy 0.952247191011236\n",
      "2 accuracy 0.9592696629213483\n",
      "3 accuracy 0.9634831460674157\n",
      "4 accuracy 0.9536516853932584\n",
      "5 accuracy 0.9410112359550562\n",
      "6 accuracy 0.9325842696629213\n",
      "7 accuracy 0.952247191011236\n",
      "8 accuracy 0.9606741573033708\n",
      "9 accuracy 0.952247191011236\n"
     ]
    }
   ],
   "source": [
    "dt_best = DecisionTreeClassifier(class_weight=None, criterion='gini', max_depth=50,\n",
    "                       max_features=None, max_leaf_nodes=150,\n",
    "                       min_impurity_decrease=0.0, min_impurity_split=None,\n",
    "                       min_samples_leaf=1, min_samples_split=2,\n",
    "                       min_weight_fraction_leaf=0.0, presort=False,\n",
    "                       random_state=None, splitter='best')\n",
    "pred_train_dt, pred_test_dt=BuildModel(dt_best, X_train, y_train, X_test,kf, ntrain, ntest, nclass, NFOLDS)"
   ]
  },
  {
   "cell_type": "code",
   "execution_count": 20,
   "metadata": {},
   "outputs": [
    {
     "name": "stdout",
     "output_type": "stream",
     "text": [
      "0.42786069651741293\n",
      "0.401010101010101\n"
     ]
    },
    {
     "data": {
      "image/png": "[encoded data removed]",
      "text/plain": [
       "<Figure size 864x576 with 1 Axes>"
      ]
     },
     "metadata": {
      "needs_background": "light"
     },
     "output_type": "display_data"
    }
   ],
   "source": [
    "thresholds = np.linspace(0.01, 0.5, 100)\n",
    "f1_sc_dt = np.array([f1_score(y_train,pred_train_dt[:,1] > thr) for thr in thresholds])\n",
    "plt.figure(figsize=(12,8))\n",
    "plt.plot(thresholds, f1_sc_dt, linewidth=4 )\n",
    "plt.ylabel(\"F1 score\", fontsize=18)\n",
    "plt.xlabel(\"Threshold\", fontsize=18)\n",
    "best_dt_f1 = thresholds[f1_sc_dt.argmax()]\n",
    "print(f1_sc_dt.max())\n",
    "print(best_dt_f1)"
   ]
  },
  {
   "cell_type": "code",
   "execution_count": 21,
   "metadata": {},
   "outputs": [
    {
     "name": "stdout",
     "output_type": "stream",
     "text": [
      "              precision    recall  f1-score   support\n",
      "\n",
      "      Normal     0.9758    0.9736    0.9747      6827\n",
      "  Bankruptcy     0.4175    0.4388    0.4279       294\n",
      "\n",
      "    accuracy                         0.9516      7121\n",
      "   macro avg     0.6966    0.7062    0.7013      7121\n",
      "weighted avg     0.9527    0.9516    0.9521      7121\n",
      "\n",
      "[[6647  180]\n",
      " [ 165  129]]\n"
     ]
    }
   ],
   "source": [
    "show_accuracy(pred_train_dt[:,1],y_train, labels, best_dt_f1, nclass)"
   ]
  },
  {
   "cell_type": "code",
   "execution_count": 22,
   "metadata": {},
   "outputs": [
    {
     "name": "stdout",
     "output_type": "stream",
     "text": [
      "              precision    recall  f1-score   support\n",
      "\n",
      "      Normal     0.9795    0.9905    0.9850      2946\n",
      "  Bankruptcy     0.6164    0.4245    0.5028       106\n",
      "\n",
      "    accuracy                         0.9708      3052\n",
      "   macro avg     0.7980    0.7075    0.7439      3052\n",
      "weighted avg     0.9669    0.9708    0.9682      3052\n",
      "\n",
      "[[2918   28]\n",
      " [  61   45]]\n"
     ]
    }
   ],
   "source": [
    "show_accuracy(pred_test_dt[:,1],y_test, labels, best_dt_f1, nclass)"
   ]
  },
  {
   "cell_type": "code",
   "execution_count": 23,
   "metadata": {},
   "outputs": [
    {
     "name": "stdout",
     "output_type": "stream",
     "text": [
      "Index(['X1', 'X2', 'X3', 'X4', 'X5', 'X6', 'X7', 'X8', 'X9', 'X10', 'X11',\n",
      "       'X12', 'X13', 'X14', 'X15', 'X16', 'X17', 'X18', 'X19', 'X20', 'X21',\n",
      "       'X22', 'X23', 'X24', 'X25', 'X26', 'X27', 'X28', 'X29', 'X30', 'X31',\n",
      "       'X32', 'X33', 'X34', 'X35', 'X36', 'X37', 'X38', 'X39', 'X40', 'X41',\n",
      "       'X42', 'X43', 'X44', 'X45', 'X46', 'X47', 'X48', 'X49', 'X50', 'X51',\n",
      "       'X52', 'X53', 'X54', 'X55', 'X56', 'X57', 'X58', 'X59', 'X60', 'X61',\n",
      "       'X62', 'X63'],\n",
      "      dtype='object')\n"
     ]
    }
   ],
   "source": [
    "print(mean_imputed_df.columns[:-1])"
   ]
  },
  {
   "cell_type": "code",
   "execution_count": 24,
   "metadata": {},
   "outputs": [
    {
     "data": {
      "text/html": [
       "<div>\n",
       "<style scoped>\n",
       "    .dataframe tbody tr th:only-of-type {\n",
       "        vertical-align: middle;\n",
       "    }\n",
       "\n",
       "    .dataframe tbody tr th {\n",
       "        vertical-align: top;\n",
       "    }\n",
       "\n",
       "    .dataframe thead th {\n",
       "        text-align: right;\n",
       "    }\n",
       "</style>\n",
       "<table border=\"1\" class=\"dataframe\">\n",
       "  <thead>\n",
       "    <tr style=\"text-align: right;\">\n",
       "      <th></th>\n",
       "      <th>feature</th>\n",
       "      <th>importance</th>\n",
       "    </tr>\n",
       "  </thead>\n",
       "  <tbody>\n",
       "    <tr>\n",
       "      <td>33</td>\n",
       "      <td>X34</td>\n",
       "      <td>0.164227</td>\n",
       "    </tr>\n",
       "    <tr>\n",
       "      <td>26</td>\n",
       "      <td>X27</td>\n",
       "      <td>0.098228</td>\n",
       "    </tr>\n",
       "    <tr>\n",
       "      <td>57</td>\n",
       "      <td>X58</td>\n",
       "      <td>0.076971</td>\n",
       "    </tr>\n",
       "    <tr>\n",
       "      <td>55</td>\n",
       "      <td>X56</td>\n",
       "      <td>0.069214</td>\n",
       "    </tr>\n",
       "    <tr>\n",
       "      <td>8</td>\n",
       "      <td>X9</td>\n",
       "      <td>0.041914</td>\n",
       "    </tr>\n",
       "    <tr>\n",
       "      <td>...</td>\n",
       "      <td>...</td>\n",
       "      <td>...</td>\n",
       "    </tr>\n",
       "    <tr>\n",
       "      <td>6</td>\n",
       "      <td>X7</td>\n",
       "      <td>0.000000</td>\n",
       "    </tr>\n",
       "    <tr>\n",
       "      <td>3</td>\n",
       "      <td>X4</td>\n",
       "      <td>0.000000</td>\n",
       "    </tr>\n",
       "    <tr>\n",
       "      <td>2</td>\n",
       "      <td>X3</td>\n",
       "      <td>0.000000</td>\n",
       "    </tr>\n",
       "    <tr>\n",
       "      <td>62</td>\n",
       "      <td>X63</td>\n",
       "      <td>0.000000</td>\n",
       "    </tr>\n",
       "    <tr>\n",
       "      <td>32</td>\n",
       "      <td>X33</td>\n",
       "      <td>0.000000</td>\n",
       "    </tr>\n",
       "  </tbody>\n",
       "</table>\n",
       "<p>64 rows × 2 columns</p>\n",
       "</div>"
      ],
      "text/plain": [
       "   feature  importance\n",
       "33     X34    0.164227\n",
       "26     X27    0.098228\n",
       "57     X58    0.076971\n",
       "55     X56    0.069214\n",
       "8       X9    0.041914\n",
       "..     ...         ...\n",
       "6       X7    0.000000\n",
       "3       X4    0.000000\n",
       "2       X3    0.000000\n",
       "62     X63    0.000000\n",
       "32     X33    0.000000\n",
       "\n",
       "[64 rows x 2 columns]"
      ]
     },
     "execution_count": 24,
     "metadata": {},
     "output_type": "execute_result"
    },
    {
     "data": {
      "text/plain": [
       "<Figure size 864x576 with 0 Axes>"
      ]
     },
     "metadata": {},
     "output_type": "display_data"
    }
   ],
   "source": [
    "show_feature_importance(dt_best, mean_imputed_df.columns, 'Decision tree')"
   ]
  },
  {
   "cell_type": "markdown",
   "metadata": {},
   "source": [
    "## Random forest"
   ]
  },
  {
   "cell_type": "code",
   "execution_count": 25,
   "metadata": {},
   "outputs": [
    {
     "name": "stdout",
     "output_type": "stream",
     "text": [
      "0 accuracy 0.9719495091164095\n",
      "1 accuracy 0.9662921348314607\n",
      "2 accuracy 0.9831460674157303\n",
      "3 accuracy 0.9817415730337079\n",
      "4 accuracy 0.9676966292134831\n",
      "5 accuracy 0.9691011235955056\n",
      "6 accuracy 0.9606741573033708\n",
      "7 accuracy 0.9676966292134831\n",
      "8 accuracy 0.9705056179775281\n",
      "9 accuracy 0.9775280898876404\n"
     ]
    }
   ],
   "source": [
    "rf_best = RandomForestClassifier(bootstrap=True, class_weight=None, criterion='gini',\n",
    "                       max_depth=25, max_features=64, max_leaf_nodes=25,\n",
    "                       min_impurity_decrease=0.0, min_impurity_split=None,\n",
    "                       min_samples_leaf=1, min_samples_split=2,\n",
    "                       min_weight_fraction_leaf=0.0, n_estimators=150,\n",
    "                       n_jobs=None, oob_score=False, random_state=None,\n",
    "                       verbose=0, warm_start=False)\n",
    "\n",
    "pred_train_rf, pred_test_rf = BuildModel(rf_best, X_train, y_train, X_test,kf, ntrain, ntest, nclass, NFOLDS)"
   ]
  },
  {
   "cell_type": "code",
   "execution_count": 26,
   "metadata": {},
   "outputs": [
    {
     "name": "stdout",
     "output_type": "stream",
     "text": [
      "f1 score of random forest:  0.5236051502145922\n",
      "0.2972727272727273\n"
     ]
    },
    {
     "data": {
      "image/png": "[encoded data removed]",
      "text/plain": [
       "<Figure size 864x576 with 1 Axes>"
      ]
     },
     "metadata": {
      "needs_background": "light"
     },
     "output_type": "display_data"
    }
   ],
   "source": [
    "thresholds = np.linspace(0.01, 0.8, 100)\n",
    "f1_sc_rf = np.array([f1_score(y_train,pred_train_rf[:,1] > thr) for thr in thresholds])\n",
    "plt.figure(figsize=(12,8))\n",
    "plt.plot(thresholds, f1_sc_rf, linewidth=4 )\n",
    "plt.ylabel(\"F1 score\", fontsize=18)\n",
    "plt.xlabel(\"Threshold\", fontsize=18)\n",
    "best_rf_f1 = thresholds[f1_sc_rf.argmax()]\n",
    "print('f1 score of random forest: ', f1_sc_rf.max())\n",
    "print(best_rf_f1)"
   ]
  },
  {
   "cell_type": "code",
   "execution_count": 27,
   "metadata": {},
   "outputs": [
    {
     "name": "stdout",
     "output_type": "stream",
     "text": [
      "              precision    recall  f1-score   support\n",
      "\n",
      "      Normal     0.9752    0.9927    0.9839      6827\n",
      "  Bankruptcy     0.7093    0.4150    0.5236       294\n",
      "\n",
      "    accuracy                         0.9688      7121\n",
      "   macro avg     0.8423    0.7038    0.7537      7121\n",
      "weighted avg     0.9643    0.9688    0.9649      7121\n",
      "\n",
      "[[6777   50]\n",
      " [ 172  122]]\n"
     ]
    }
   ],
   "source": [
    "show_accuracy(pred_train_rf[:,1],y_train, labels, best_rf_f1, nclass)"
   ]
  },
  {
   "cell_type": "raw",
   "metadata": {},
   "source": [
    "              precision    recall  f1-score   support\n",
    "\n",
    "      Normal     0.9237    0.8841    0.9035      3849\n",
    "  Bankruptcy     0.8889    0.9270    0.9075      3849\n",
    "\n",
    "    accuracy                         0.9056      7698\n",
    "   macro avg     0.9063    0.9056    0.9055      7698\n",
    "weighted avg     0.9063    0.9056    0.9055      7698\n",
    "\n",
    "[[3403  446]\n",
    " [ 281 3568]]"
   ]
  },
  {
   "cell_type": "code",
   "execution_count": 28,
   "metadata": {},
   "outputs": [
    {
     "name": "stdout",
     "output_type": "stream",
     "text": [
      "              precision    recall  f1-score   support\n",
      "\n",
      "      Normal     0.9786    0.9942    0.9864      2946\n",
      "  Bankruptcy     0.7119    0.3962    0.5091       106\n",
      "\n",
      "    accuracy                         0.9735      3052\n",
      "   macro avg     0.8452    0.6952    0.7477      3052\n",
      "weighted avg     0.9694    0.9735    0.9698      3052\n",
      "\n",
      "[[2929   17]\n",
      " [  64   42]]\n"
     ]
    }
   ],
   "source": [
    "show_accuracy(pred_test_rf[:,1],y_test, labels, best_rf_f1, nclass)"
   ]
  },
  {
   "cell_type": "code",
   "execution_count": 29,
   "metadata": {},
   "outputs": [
    {
     "data": {
      "text/html": [
       "<div>\n",
       "<style scoped>\n",
       "    .dataframe tbody tr th:only-of-type {\n",
       "        vertical-align: middle;\n",
       "    }\n",
       "\n",
       "    .dataframe tbody tr th {\n",
       "        vertical-align: top;\n",
       "    }\n",
       "\n",
       "    .dataframe thead th {\n",
       "        text-align: right;\n",
       "    }\n",
       "</style>\n",
       "<table border=\"1\" class=\"dataframe\">\n",
       "  <thead>\n",
       "    <tr style=\"text-align: right;\">\n",
       "      <th></th>\n",
       "      <th>feature</th>\n",
       "      <th>importance</th>\n",
       "    </tr>\n",
       "  </thead>\n",
       "  <tbody>\n",
       "    <tr>\n",
       "      <td>33</td>\n",
       "      <td>X34</td>\n",
       "      <td>0.270391</td>\n",
       "    </tr>\n",
       "    <tr>\n",
       "      <td>26</td>\n",
       "      <td>X27</td>\n",
       "      <td>0.158358</td>\n",
       "    </tr>\n",
       "    <tr>\n",
       "      <td>57</td>\n",
       "      <td>X58</td>\n",
       "      <td>0.097306</td>\n",
       "    </tr>\n",
       "    <tr>\n",
       "      <td>55</td>\n",
       "      <td>X56</td>\n",
       "      <td>0.079656</td>\n",
       "    </tr>\n",
       "    <tr>\n",
       "      <td>5</td>\n",
       "      <td>X6</td>\n",
       "      <td>0.039619</td>\n",
       "    </tr>\n",
       "    <tr>\n",
       "      <td>...</td>\n",
       "      <td>...</td>\n",
       "      <td>...</td>\n",
       "    </tr>\n",
       "    <tr>\n",
       "      <td>13</td>\n",
       "      <td>X14</td>\n",
       "      <td>0.000850</td>\n",
       "    </tr>\n",
       "    <tr>\n",
       "      <td>10</td>\n",
       "      <td>X11</td>\n",
       "      <td>0.000789</td>\n",
       "    </tr>\n",
       "    <tr>\n",
       "      <td>17</td>\n",
       "      <td>X18</td>\n",
       "      <td>0.000710</td>\n",
       "    </tr>\n",
       "    <tr>\n",
       "      <td>48</td>\n",
       "      <td>X49</td>\n",
       "      <td>0.000662</td>\n",
       "    </tr>\n",
       "    <tr>\n",
       "      <td>0</td>\n",
       "      <td>X1</td>\n",
       "      <td>0.000616</td>\n",
       "    </tr>\n",
       "  </tbody>\n",
       "</table>\n",
       "<p>64 rows × 2 columns</p>\n",
       "</div>"
      ],
      "text/plain": [
       "   feature  importance\n",
       "33     X34    0.270391\n",
       "26     X27    0.158358\n",
       "57     X58    0.097306\n",
       "55     X56    0.079656\n",
       "5       X6    0.039619\n",
       "..     ...         ...\n",
       "13     X14    0.000850\n",
       "10     X11    0.000789\n",
       "17     X18    0.000710\n",
       "48     X49    0.000662\n",
       "0       X1    0.000616\n",
       "\n",
       "[64 rows x 2 columns]"
      ]
     },
     "execution_count": 29,
     "metadata": {},
     "output_type": "execute_result"
    },
    {
     "data": {
      "text/plain": [
       "<Figure size 864x576 with 0 Axes>"
      ]
     },
     "metadata": {},
     "output_type": "display_data"
    }
   ],
   "source": [
    "show_feature_importance(rf_best, mean_imputed_df.columns, 'Random forest')"
   ]
  },
  {
   "cell_type": "markdown",
   "metadata": {},
   "source": [
    "## Xgboost"
   ]
  },
  {
   "cell_type": "code",
   "execution_count": 30,
   "metadata": {},
   "outputs": [
    {
     "name": "stdout",
     "output_type": "stream",
     "text": [
      "0 accuracy 0.9663394109396914\n",
      "1 accuracy 0.9719101123595506\n",
      "2 accuracy 0.9831460674157303\n",
      "3 accuracy 0.9887640449438202\n",
      "4 accuracy 0.9705056179775281\n",
      "5 accuracy 0.9719101123595506\n",
      "6 accuracy 0.9606741573033708\n",
      "7 accuracy 0.9691011235955056\n",
      "8 accuracy 0.973314606741573\n",
      "9 accuracy 0.9803370786516854\n"
     ]
    }
   ],
   "source": [
    "xgb_best = xgb.XGBClassifier(base_score=0.5, booster='gbtree', colsample_bylevel=1,\n",
    "              colsample_bynode=1, colsample_bytree=1, eta=5, gamma=0,\n",
    "              learning_rate=0.1, max_delta_step=0, max_depth=8,\n",
    "              min_child_weight=1, missing=None, n_estimators=100, n_jobs=1,\n",
    "              nthread=None, objective='binary:logitraw', random_state=0,\n",
    "              reg_alpha=0, reg_lambda=1, scale_pos_weight=1, seed=None,\n",
    "              silent=None, subsample=1, verbosity=1)\n",
    "\n",
    "pred_train_xgb, pred_test_xgb = BuildModel(xgb_best, X_train, y_train, X_test, kf, ntrain, ntest, nclass, NFOLDS)"
   ]
  },
  {
   "cell_type": "code",
   "execution_count": 31,
   "metadata": {},
   "outputs": [
    {
     "name": "stdout",
     "output_type": "stream",
     "text": [
      "0.5825688073394495\n"
     ]
    },
    {
     "data": {
      "image/png": "[encoded data removed]",
      "text/plain": [
       "<Figure size 864x576 with 1 Axes>"
      ]
     },
     "metadata": {
      "needs_background": "light"
     },
     "output_type": "display_data"
    }
   ],
   "source": [
    "thresholds = np.linspace(0.01, 0.8, 100)\n",
    "f1_sc_xgb = np.array([f1_score(y_train,pred_train_xgb[:,1] > thr) for thr in thresholds])\n",
    "plt.figure(figsize=(12,8))\n",
    "plt.plot(thresholds, f1_sc_xgb, linewidth=4 )\n",
    "plt.ylabel(\"F1 score\", fontsize=18)\n",
    "plt.xlabel(\"Threshold\", fontsize=18)\n",
    "best_thr_xgb = thresholds[f1_sc_xgb.argmax()]\n",
    "print(f1_sc_xgb.max())"
   ]
  },
  {
   "cell_type": "code",
   "execution_count": 32,
   "metadata": {},
   "outputs": [
    {
     "name": "stdout",
     "output_type": "stream",
     "text": [
      "              precision    recall  f1-score   support\n",
      "\n",
      "      Normal     0.9761    0.9978    0.9868      6827\n",
      "  Bankruptcy     0.8944    0.4320    0.5826       294\n",
      "\n",
      "    accuracy                         0.9744      7121\n",
      "   macro avg     0.9352    0.7149    0.7847      7121\n",
      "weighted avg     0.9727    0.9744    0.9701      7121\n",
      "\n",
      "[[6812   15]\n",
      " [ 167  127]]\n"
     ]
    }
   ],
   "source": [
    "show_accuracy(pred_train_xgb[:,1],y_train, labels, best_thr_xgb, nclass)"
   ]
  },
  {
   "cell_type": "code",
   "execution_count": 33,
   "metadata": {},
   "outputs": [
    {
     "name": "stdout",
     "output_type": "stream",
     "text": [
      "              precision    recall  f1-score   support\n",
      "\n",
      "      Normal     0.9784    0.9980    0.9881      2946\n",
      "  Bankruptcy     0.8723    0.3868    0.5359       106\n",
      "\n",
      "    accuracy                         0.9767      3052\n",
      "   macro avg     0.9254    0.6924    0.7620      3052\n",
      "weighted avg     0.9747    0.9767    0.9724      3052\n",
      "\n",
      "[[2940    6]\n",
      " [  65   41]]\n"
     ]
    }
   ],
   "source": [
    "show_accuracy(pred_test_xgb[:,1],y_test, labels, best_thr_xgb, nclass)"
   ]
  },
  {
   "cell_type": "code",
   "execution_count": 34,
   "metadata": {
    "scrolled": false
   },
   "outputs": [
    {
     "data": {
      "text/html": [
       "<div>\n",
       "<style scoped>\n",
       "    .dataframe tbody tr th:only-of-type {\n",
       "        vertical-align: middle;\n",
       "    }\n",
       "\n",
       "    .dataframe tbody tr th {\n",
       "        vertical-align: top;\n",
       "    }\n",
       "\n",
       "    .dataframe thead th {\n",
       "        text-align: right;\n",
       "    }\n",
       "</style>\n",
       "<table border=\"1\" class=\"dataframe\">\n",
       "  <thead>\n",
       "    <tr style=\"text-align: right;\">\n",
       "      <th></th>\n",
       "      <th>feature</th>\n",
       "      <th>importance</th>\n",
       "    </tr>\n",
       "  </thead>\n",
       "  <tbody>\n",
       "    <tr>\n",
       "      <td>33</td>\n",
       "      <td>X34</td>\n",
       "      <td>0.058601</td>\n",
       "    </tr>\n",
       "    <tr>\n",
       "      <td>55</td>\n",
       "      <td>X56</td>\n",
       "      <td>0.042744</td>\n",
       "    </tr>\n",
       "    <tr>\n",
       "      <td>26</td>\n",
       "      <td>X27</td>\n",
       "      <td>0.029552</td>\n",
       "    </tr>\n",
       "    <tr>\n",
       "      <td>25</td>\n",
       "      <td>X26</td>\n",
       "      <td>0.027142</td>\n",
       "    </tr>\n",
       "    <tr>\n",
       "      <td>24</td>\n",
       "      <td>X25</td>\n",
       "      <td>0.025839</td>\n",
       "    </tr>\n",
       "    <tr>\n",
       "      <td>...</td>\n",
       "      <td>...</td>\n",
       "      <td>...</td>\n",
       "    </tr>\n",
       "    <tr>\n",
       "      <td>16</td>\n",
       "      <td>X17</td>\n",
       "      <td>0.005998</td>\n",
       "    </tr>\n",
       "    <tr>\n",
       "      <td>9</td>\n",
       "      <td>X10</td>\n",
       "      <td>0.004734</td>\n",
       "    </tr>\n",
       "    <tr>\n",
       "      <td>51</td>\n",
       "      <td>X52</td>\n",
       "      <td>0.004687</td>\n",
       "    </tr>\n",
       "    <tr>\n",
       "      <td>17</td>\n",
       "      <td>X18</td>\n",
       "      <td>0.000000</td>\n",
       "    </tr>\n",
       "    <tr>\n",
       "      <td>13</td>\n",
       "      <td>X14</td>\n",
       "      <td>0.000000</td>\n",
       "    </tr>\n",
       "  </tbody>\n",
       "</table>\n",
       "<p>64 rows × 2 columns</p>\n",
       "</div>"
      ],
      "text/plain": [
       "   feature  importance\n",
       "33     X34    0.058601\n",
       "55     X56    0.042744\n",
       "26     X27    0.029552\n",
       "25     X26    0.027142\n",
       "24     X25    0.025839\n",
       "..     ...         ...\n",
       "16     X17    0.005998\n",
       "9      X10    0.004734\n",
       "51     X52    0.004687\n",
       "17     X18    0.000000\n",
       "13     X14    0.000000\n",
       "\n",
       "[64 rows x 2 columns]"
      ]
     },
     "execution_count": 34,
     "metadata": {},
     "output_type": "execute_result"
    },
    {
     "data": {
      "text/plain": [
       "<Figure size 864x576 with 0 Axes>"
      ]
     },
     "metadata": {},
     "output_type": "display_data"
    }
   ],
   "source": [
    "show_feature_importance(xgb_best, mean_imputed_df.columns, 'XGboost')"
   ]
  },
  {
   "cell_type": "code",
   "execution_count": 35,
   "metadata": {},
   "outputs": [
    {
     "name": "stderr",
     "output_type": "stream",
     "text": [
      "C:\\Developement\\Anaconda\\lib\\site-packages\\sklearn\\discriminant_analysis.py:388: UserWarning: Variables are collinear.\n",
      "  warnings.warn(\"Variables are collinear.\")\n",
      "C:\\Developement\\Anaconda\\lib\\site-packages\\sklearn\\discriminant_analysis.py:388: UserWarning: Variables are collinear.\n",
      "  warnings.warn(\"Variables are collinear.\")\n"
     ]
    },
    {
     "name": "stdout",
     "output_type": "stream",
     "text": [
      "0 accuracy 0.9467040673211781\n",
      "1 accuracy 0.9550561797752809\n"
     ]
    },
    {
     "name": "stderr",
     "output_type": "stream",
     "text": [
      "C:\\Developement\\Anaconda\\lib\\site-packages\\sklearn\\discriminant_analysis.py:388: UserWarning: Variables are collinear.\n",
      "  warnings.warn(\"Variables are collinear.\")\n",
      "C:\\Developement\\Anaconda\\lib\\site-packages\\sklearn\\discriminant_analysis.py:388: UserWarning: Variables are collinear.\n",
      "  warnings.warn(\"Variables are collinear.\")\n"
     ]
    },
    {
     "name": "stdout",
     "output_type": "stream",
     "text": [
      "2 accuracy 0.9662921348314607\n",
      "3 accuracy 0.9719101123595506\n"
     ]
    },
    {
     "name": "stderr",
     "output_type": "stream",
     "text": [
      "C:\\Developement\\Anaconda\\lib\\site-packages\\sklearn\\discriminant_analysis.py:388: UserWarning: Variables are collinear.\n",
      "  warnings.warn(\"Variables are collinear.\")\n",
      "C:\\Developement\\Anaconda\\lib\\site-packages\\sklearn\\discriminant_analysis.py:388: UserWarning: Variables are collinear.\n",
      "  warnings.warn(\"Variables are collinear.\")\n"
     ]
    },
    {
     "name": "stdout",
     "output_type": "stream",
     "text": [
      "4 accuracy 0.9564606741573034\n",
      "5 accuracy 0.9452247191011236\n"
     ]
    },
    {
     "name": "stderr",
     "output_type": "stream",
     "text": [
      "C:\\Developement\\Anaconda\\lib\\site-packages\\sklearn\\discriminant_analysis.py:388: UserWarning: Variables are collinear.\n",
      "  warnings.warn(\"Variables are collinear.\")\n",
      "C:\\Developement\\Anaconda\\lib\\site-packages\\sklearn\\discriminant_analysis.py:388: UserWarning: Variables are collinear.\n",
      "  warnings.warn(\"Variables are collinear.\")\n"
     ]
    },
    {
     "name": "stdout",
     "output_type": "stream",
     "text": [
      "6 accuracy 0.9438202247191011\n",
      "7 accuracy 0.9536516853932584\n"
     ]
    },
    {
     "name": "stderr",
     "output_type": "stream",
     "text": [
      "C:\\Developement\\Anaconda\\lib\\site-packages\\sklearn\\discriminant_analysis.py:388: UserWarning: Variables are collinear.\n",
      "  warnings.warn(\"Variables are collinear.\")\n",
      "C:\\Developement\\Anaconda\\lib\\site-packages\\sklearn\\discriminant_analysis.py:388: UserWarning: Variables are collinear.\n",
      "  warnings.warn(\"Variables are collinear.\")\n"
     ]
    },
    {
     "name": "stdout",
     "output_type": "stream",
     "text": [
      "8 accuracy 0.9578651685393258\n",
      "9 accuracy 0.949438202247191\n"
     ]
    },
    {
     "name": "stderr",
     "output_type": "stream",
     "text": [
      "C:\\Developement\\Anaconda\\lib\\site-packages\\sklearn\\discriminant_analysis.py:388: UserWarning: Variables are collinear.\n",
      "  warnings.warn(\"Variables are collinear.\")\n"
     ]
    },
    {
     "name": "stdout",
     "output_type": "stream",
     "text": [
      "0.15049751243781093\n",
      "              precision    recall  f1-score   support\n",
      "\n",
      "      Normal     0.9702    0.8253    0.8919      6827\n",
      "  Bankruptcy     0.0921    0.4116    0.1505       294\n",
      "\n",
      "    accuracy                         0.8082      7121\n",
      "   macro avg     0.5311    0.6184    0.5212      7121\n",
      "weighted avg     0.9340    0.8082    0.8613      7121\n",
      "\n",
      "[[5634 1193]\n",
      " [ 173  121]]\n",
      "              precision    recall  f1-score   support\n",
      "\n",
      "      Normal     0.9699    0.8201    0.8887      2946\n",
      "  Bankruptcy     0.0553    0.2925    0.0930       106\n",
      "\n",
      "    accuracy                         0.8018      3052\n",
      "   macro avg     0.5126    0.5563    0.4908      3052\n",
      "weighted avg     0.9381    0.8018    0.8611      3052\n",
      "\n",
      "[[2416  530]\n",
      " [  75   31]]\n"
     ]
    },
    {
     "data": {
      "image/png": "[encoded data removed]",
      "text/plain": [
       "<Figure size 864x576 with 1 Axes>"
      ]
     },
     "metadata": {
      "needs_background": "light"
     },
     "output_type": "display_data"
    }
   ],
   "source": [
    "from sklearn.discriminant_analysis import LinearDiscriminantAnalysis as LDA\n",
    "lda = LDA()\n",
    "\n",
    "lda.fit(X_train, y_train)\n",
    "pred_train_lda, pred_test_lda = BuildModel(lda, X_train, y_train, X_test,kf, ntrain, ntest, nclass, NFOLDS)\n",
    "\n",
    "thresholds = np.linspace(0.01, 0.5, 100)\n",
    "f1_sc_lda = np.array([f1_score(y_train,pred_train_lda[:,1] > thr) for thr in thresholds])\n",
    "plt.figure(figsize=(12,8))\n",
    "plt.plot(thresholds, f1_sc_lda, linewidth=4 )\n",
    "plt.ylabel(\"F1 score\", fontsize=18)\n",
    "plt.xlabel(\"Threshold\", fontsize=18)\n",
    "best_thr_lda = thresholds[f1_sc_lda.argmax()]\n",
    "print(f1_sc_lda.max())\n",
    "\n",
    "show_accuracy(pred_train_lda[:,1],y_train, labels, best_thr_lda, nclass)\n",
    "\n",
    "show_accuracy(pred_test_lda[:,1],y_test, labels, best_thr_lda, nclass)"
   ]
  },
  {
   "cell_type": "code",
   "execution_count": null,
   "metadata": {},
   "outputs": [],
   "source": []
  }
 ],
 "metadata": {
  "kernelspec": {
   "display_name": "Python 3",
   "language": "python",
   "name": "python3"
  },
  "language_info": {
   "codemirror_mode": {
    "name": "ipython",
    "version": 3
   },
   "file_extension": ".py",
   "mimetype": "text/x-python",
   "name": "python",
   "nbconvert_exporter": "python",
   "pygments_lexer": "ipython3",
   "version": "3.7.4"
  }
 },
 "nbformat": 4,
 "nbformat_minor": 2
}
